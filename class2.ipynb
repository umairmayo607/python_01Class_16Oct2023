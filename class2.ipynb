{
 "cells": [
  {
   "cell_type": "code",
   "execution_count": 10,
   "metadata": {},
   "outputs": [
    {
     "name": "stdout",
     "output_type": "stream",
     "text": [
      "Muhammad Umair\n"
     ]
    }
   ],
   "source": [
    "name: str = \"Muhammad Umair\"\n",
    "print(name)"
   ]
  },
  {
   "cell_type": "markdown",
   "metadata": {},
   "source": [
    "string Datatype in python"
   ]
  },
  {
   "cell_type": "code",
   "execution_count": 15,
   "metadata": {},
   "outputs": [
    {
     "name": "stdout",
     "output_type": "stream",
     "text": [
      "umair\n",
      "umair and \n",
      "father's name umair\n"
     ]
    }
   ],
   "source": [
    "name: str = \"umair\"\n",
    "fname: str = \"umair and \\nfather's name umair\"\n",
    "print(name)\n",
    "print(fname)"
   ]
  },
  {
   "cell_type": "code",
   "execution_count": 16,
   "metadata": {},
   "outputs": [
    {
     "name": "stdout",
     "output_type": "stream",
     "text": [
      "umair\n",
      "umair and \n",
      "father's name umair\n"
     ]
    }
   ],
   "source": [
    "#how to convert special character to normal character: with the help of backSlash \"\\\"\n",
    "\n",
    "fname: str = 'umair and \\nfather\\'s name umair'\n",
    "print(name)\n",
    "print(fname)"
   ]
  },
  {
   "cell_type": "code",
   "execution_count": 27,
   "metadata": {},
   "outputs": [
    {
     "name": "stdout",
     "output_type": "stream",
     "text": [
      "PIAIC student card\n",
      "Student Name: Muhammad Umair Idrees\n",
      "Father Name: Muhammad Idrees\n",
      "Edcation: Master in python programming\n",
      "Age: 22\n"
     ]
    }
   ],
   "source": [
    "name: str = \"Muhammad Umair Idrees\"\n",
    "fname: str = \"Muhammad Idrees\"\n",
    "education: str = \"Master in python programming\"\n",
    "age: int = 22\n",
    "\n",
    "card: str = \"PIAIC student card\\nStudent Name: \" + name + \"\\nFather Name: \"+ fname + \"\\nEdcation: \"+ education + \\\n",
    " \"\\nAge: \"+ str(age)\n",
    "\n",
    "print(card)"
   ]
  },
  {
   "cell_type": "markdown",
   "metadata": {},
   "source": [
    "#define multiline string \"\"\" \"\"\""
   ]
  },
  {
   "cell_type": "code",
   "execution_count": 31,
   "metadata": {},
   "outputs": [
    {
     "name": "stdout",
     "output_type": "stream",
     "text": [
      " \n",
      "PIAIX Student Card\n",
      "Student Name: Muhammad Umair Idrees\n",
      "Father Name:Muhammad Idrees\n",
      "education: Master in python programming\n",
      "age:22\n",
      "\n",
      "\n"
     ]
    }
   ],
   "source": [
    "#this is the only strong method and called f-string\n",
    "name: str = \"Muhammad Umair Idrees\"\n",
    "fname: str = \"Muhammad Idrees\"\n",
    "education: str = \"Master in python programming\"\n",
    "age: int = 22\n",
    "\n",
    "card: str = f\"\"\" \n",
    "PIAIC Student Card\n",
    "Student Name: {name}\n",
    "Father Name:{fname}\n",
    "education: {education}\n",
    "age:{age}\n",
    "\n",
    "\"\"\"\n",
    "print(card)"
   ]
  },
  {
   "cell_type": "markdown",
   "metadata": {},
   "source": [
    "#Mosly we used in C or C++"
   ]
  },
  {
   "cell_type": "code",
   "execution_count": 34,
   "metadata": {},
   "outputs": [
    {
     "name": "stdout",
     "output_type": "stream",
     "text": [
      " \n",
      "PIAIC Student Card\n",
      "Student Name: Muhammad Umair Idrees\n",
      "Father Name:Muhammad Idrees\n",
      "education: Master in python programming\n",
      "age:22\n",
      "\n",
      "\n"
     ]
    }
   ],
   "source": [
    "#this is an old method \n",
    "name: str = \"Muhammad Umair Idrees\"\n",
    "fname: str = \"Muhammad Idrees\"\n",
    "education: str = \"Master in python programming\"\n",
    "age: int = 22\n",
    "\n",
    "card: str = f\"\"\" \n",
    "PIAIC Student Card\n",
    "Student Name: %s\n",
    "Father Name:%s\n",
    "education: %s\n",
    "age:%d\n",
    "\n",
    "\"\"\" %(name,fname,education,age)\n",
    "print(card)"
   ]
  },
  {
   "cell_type": "markdown",
   "metadata": {},
   "source": [
    "#We have fromat method:\n"
   ]
  },
  {
   "cell_type": "code",
   "execution_count": 35,
   "metadata": {},
   "outputs": [
    {
     "data": {
      "text/plain": [
       "'My Name is umair and Your Name is zeshan'"
      ]
     },
     "execution_count": 35,
     "metadata": {},
     "output_type": "execute_result"
    }
   ],
   "source": [
    "#this is format method:\n",
    "myName: str = \"umair\"\n",
    "yourName: str = \"zeshan\"\n",
    "#index       0                   1           0      1\n",
    "\"My Name is {} and Your Name is {}\".format(myName,yourName)"
   ]
  },
  {
   "cell_type": "code",
   "execution_count": 38,
   "metadata": {},
   "outputs": [
    {
     "name": "stdout",
     "output_type": "stream",
     "text": [
      " \n",
      "PIAIC Student Card\n",
      "Student Name: Muhammad Umair Idrees\n",
      "Father Name:Muhammad Idrees\n",
      "education: Master in python programming\n",
      "age:22\n",
      "\n",
      "\n"
     ]
    }
   ],
   "source": [
    "\n",
    "name: str = \"Muhammad Umair Idrees\"\n",
    "fname: str = \"Muhammad Idrees\"\n",
    "education: str = \"Master in python programming\"\n",
    "age: int = 22\n",
    "\n",
    "card: str = \"\"\" \n",
    "PIAIC Student Card\n",
    "Student Name: {}\n",
    "Father Name:{}\n",
    "education: {}\n",
    "age:{}\n",
    "\n",
    "\"\"\".format(name,fname,education,age)\n",
    "#indexes     0    1       2       3\n",
    "print(card)"
   ]
  },
  {
   "cell_type": "code",
   "execution_count": 44,
   "metadata": {},
   "outputs": [
    {
     "name": "stdout",
     "output_type": "stream",
     "text": [
      "My Name is Muhammd umair idrees\n",
      "My Father Name is Muhammd Idrees\n",
      "umair Idrees\n"
     ]
    }
   ],
   "source": [
    "write_any_code : str = \"\"\"\n",
    "print(\"My Name is Muhammd umair idrees\")\n",
    "print(\"My Father Name is Muhammd Idrees\")\n",
    "name:str=\"umair\"\n",
    "fname:str=\"Idrees\"\n",
    "print(name + \" \" + fname)\n",
    "\n",
    "\"\"\"\n",
    "exec(write_any_code)"
   ]
  },
  {
   "cell_type": "code",
   "execution_count": 48,
   "metadata": {},
   "outputs": [
    {
     "data": {
      "text/plain": [
       "'Muhammad Umair       '"
      ]
     },
     "metadata": {},
     "output_type": "display_data"
    },
    {
     "data": {
      "text/plain": [
       "'     Muhammad Umair'"
      ]
     },
     "metadata": {},
     "output_type": "display_data"
    },
    {
     "data": {
      "text/plain": [
       "'Muhammad Umair'"
      ]
     },
     "metadata": {},
     "output_type": "display_data"
    }
   ],
   "source": [
    "name: str = \"     Muhammad Umair       \"\n",
    "display(name.lstrip())\n",
    "display(name.rstrip())\n",
    "display(name.strip())"
   ]
  }
 ],
 "metadata": {
  "kernelspec": {
   "display_name": "Python 3",
   "language": "python",
   "name": "python3"
  },
  "language_info": {
   "codemirror_mode": {
    "name": "ipython",
    "version": 3
   },
   "file_extension": ".py",
   "mimetype": "text/x-python",
   "name": "python",
   "nbconvert_exporter": "python",
   "pygments_lexer": "ipython3",
   "version": "3.11.3"
  }
 },
 "nbformat": 4,
 "nbformat_minor": 2
}
